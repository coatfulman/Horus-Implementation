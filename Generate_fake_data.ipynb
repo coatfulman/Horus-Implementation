{
 "cells": [
  {
   "cell_type": "code",
   "execution_count": 1,
   "metadata": {},
   "outputs": [],
   "source": [
    "import tensorflow as tf\n",
    "import sklearn\n",
    "import numpy as np"
   ]
  },
  {
   "cell_type": "code",
   "execution_count": 40,
   "metadata": {},
   "outputs": [],
   "source": [
    "b1len = 100\n",
    "b2len = 80\n",
    "\n",
    "\n",
    "with open('s1', 'w+') as s1:\n",
    "    arr1 = np.random.normal(0, 1, b1len)\n",
    "    arr2 = np.random.normal(1, 10, b2len)\n",
    "    for rnum in arr1:\n",
    "        s1.write('b1 ' + str(rnum) + '\\n')\n",
    "    for rnum in arr2:\n",
    "        s1.write('b2 ' + str(rnum) + '\\n')\n",
    "        \n",
    "with open('s2', 'w+') as s2:\n",
    "    arr1 = np.random.normal(0, 10, b1len)\n",
    "    arr2 = np.random.normal(1, 1, b2len)\n",
    "    for rnum in arr1:\n",
    "        s2.write('b1 ' + str(rnum) + '\\n')\n",
    "    for rnum in arr2:\n",
    "        s2.write('b2 ' + str(rnum) + '\\n')\n"
   ]
  },
  {
   "cell_type": "code",
   "execution_count": null,
   "metadata": {},
   "outputs": [],
   "source": []
  },
  {
   "cell_type": "code",
   "execution_count": 42,
   "metadata": {},
   "outputs": [],
   "source": [
    "test_len = 1000\n",
    "\n",
    "with open('ins1', 'w+') as s1:\n",
    "    arr1 = np.random.normal(0, 1, b1len)\n",
    "    arr2 = np.random.normal(1, 10, b2len)\n",
    "    \n",
    "    for num in arr1:\n",
    "        s1.write('b1 ' + str(num) + '\\n')\n",
    "        \n",
    "    for num in arr2:\n",
    "        s1.write('b2 ' + str(num) + '\\n')\n",
    "    \n",
    "        \n",
    "with open('ins2', 'w+') as s2:\n",
    "    arr1 = np.random.normal(1, 1, b1len)\n",
    "    arr2 = np.random.normal(0, 10, b2len)\n",
    "    \n",
    "    for num in arr1:\n",
    "        s2.write('b1 ' + str(num) + '\\n')\n",
    "        \n",
    "    for num in arr2:\n",
    "        s2.write('b2 ' + str(num) + '\\n')"
   ]
  },
  {
   "cell_type": "code",
   "execution_count": 43,
   "metadata": {},
   "outputs": [],
   "source": [
    "x = np.zeros(10)"
   ]
  },
  {
   "cell_type": "code",
   "execution_count": null,
   "metadata": {},
   "outputs": [],
   "source": []
  }
 ],
 "metadata": {
  "kernelspec": {
   "display_name": "Python 3",
   "language": "python",
   "name": "python3"
  },
  "language_info": {
   "codemirror_mode": {
    "name": "ipython",
    "version": 3
   },
   "file_extension": ".py",
   "mimetype": "text/x-python",
   "name": "python",
   "nbconvert_exporter": "python",
   "pygments_lexer": "ipython3",
   "version": "3.6.4"
  }
 },
 "nbformat": 4,
 "nbformat_minor": 2
}
